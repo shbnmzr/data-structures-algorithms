{
 "cells": [
  {
   "cell_type": "markdown",
   "source": [
    "# Problem Statement:\n",
    "Given 2 dates, calculate the number of days between those input dates. Compensate for leap years.\n",
    "\n",
    "# Steps to Solve a Problem:\n",
    "\n",
    "## Step 1:\n",
    "What are the inputs?\n",
    "\n",
    "## Step 2:\n",
    "How are the inputs represented?\n",
    "\n",
    "## Step 3:\n",
    "What are the outputs?\n",
    "\n",
    "## Step 4:\n",
    "Solve the problem. -> Figure out how the inputs are mapped to desired outputs.\n"
   ],
   "metadata": {
    "collapsed": false,
    "pycharm": {
     "name": "#%% md\n"
    }
   }
  },
  {
   "cell_type": "code",
   "execution_count": null,
   "outputs": [],
   "source": [],
   "metadata": {
    "collapsed": false,
    "pycharm": {
     "name": "#%%\n"
    }
   }
  }
 ],
 "metadata": {
  "kernelspec": {
   "display_name": "Python 3",
   "language": "python",
   "name": "python3"
  },
  "language_info": {
   "codemirror_mode": {
    "name": "ipython",
    "version": 2
   },
   "file_extension": ".py",
   "mimetype": "text/x-python",
   "name": "python",
   "nbconvert_exporter": "python",
   "pygments_lexer": "ipython2",
   "version": "2.7.6"
  }
 },
 "nbformat": 4,
 "nbformat_minor": 0
}